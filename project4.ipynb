{
 "cells": [
  {
   "cell_type": "markdown",
   "metadata": {},
   "source": [
    "# Интерактивная карта промышленности Москвы"
   ]
  },
  {
   "cell_type": "code",
   "metadata": {
    "ExecuteTime": {
     "end_time": "2025-06-22T11:40:44.975076Z",
     "start_time": "2025-06-22T11:40:44.963682Z"
    }
   },
   "source": [
    "import folium\n",
    "from folium import plugins\n",
    "import pandas as pd\n",
    "import geopandas as gpd\n",
    "import json\n",
    "import re\n",
    "import html\n",
    "from shapely.geometry import Point\n",
    "import osmnx as ox\n",
    "\n",
    "pd.set_option('display.max_columns', None)\n",
    "pd.set_option('display.max_rows', 100)"
   ],
   "outputs": [],
   "execution_count": 15
  },
  {
   "cell_type": "markdown",
   "metadata": {},
   "source": [
    "## Загрузка данных"
   ]
  },
  {
   "cell_type": "code",
   "metadata": {
    "ExecuteTime": {
     "end_time": "2025-06-22T11:40:45.027989Z",
     "start_time": "2025-06-22T11:40:44.981146Z"
    }
   },
   "source": [
    "# Предприятия (данные от data.mos.ru)\n",
    "df = pd.read_csv('data/data-2601-2024-09-06.csv', sep=';', encoding='utf-8')\n",
    "coords = df['geoData'].str.extract(r'coordinates=\\[([0-9.-]+),\\s*([0-9.-]+)\\]')\n",
    "df['lon'] = pd.to_numeric(coords[0])\n",
    "df['lat'] = pd.to_numeric(coords[1])\n",
    "df = df.dropna(subset=['lon', 'lat'])"
   ],
   "outputs": [],
   "execution_count": 16
  },
  {
   "cell_type": "code",
   "metadata": {
    "ExecuteTime": {
     "end_time": "2025-06-22T11:40:45.224708Z",
     "start_time": "2025-06-22T11:40:45.107810Z"
    }
   },
   "source": [
    "# Административные округа из geojson\n",
    "districts = gpd.read_file('data/moscow_districts.geojson')\n",
    "okrugs = districts.dissolve(by='NAME_AO', as_index=False)\n",
    "okrugs = okrugs[['NAME_AO', 'geometry']]\n",
    "print(f\"Загружено {len(okrugs)} административных округов\")"
   ],
   "outputs": [
    {
     "name": "stdout",
     "output_type": "stream",
     "text": [
      "Загружено 12 административных округов\n"
     ]
    }
   ],
   "execution_count": 17
  },
  {
   "cell_type": "code",
   "metadata": {
    "ExecuteTime": {
     "end_time": "2025-06-22T11:40:57.629237Z",
     "start_time": "2025-06-22T11:40:45.280894Z"
    }
   },
   "source": [
    "# Берем промышленные зоны из OSM\n",
    "industrial_zones = ox.features_from_place(\n",
    "    \"Moscow, Russia\",\n",
    "    tags={\"landuse\": \"industrial\"}\n",
    ")\n",
    "industrial_zones = industrial_zones.to_crs(\"EPSG:4326\")\n",
    "industrial_zones['area_km2'] = industrial_zones.to_crs(\"EPSG:32637\").area / 1000000\n",
    "print(f\"Загружено {len(industrial_zones)} промзон\")"
   ],
   "outputs": [
    {
     "name": "stdout",
     "output_type": "stream",
     "text": [
      "Загружено 2483 промзон\n"
     ]
    }
   ],
   "execution_count": 18
  },
  {
   "cell_type": "code",
   "metadata": {
    "ExecuteTime": {
     "end_time": "2025-06-22T11:41:15.308636Z",
     "start_time": "2025-06-22T11:40:57.697170Z"
    }
   },
   "source": [
    "#жд инфраструктура из osm\n",
    "railway_lines = ox.features_from_place(\n",
    "    \"Moscow, Russia\",\n",
    "    tags={\"railway\": [\"rail\", \"light_rail\"]}\n",
    ")\n",
    "railway_lines = railway_lines.to_crs(\"EPSG:4326\")\n",
    "print(f\"Загружено {len(railway_lines)} ж/д линий\")\n",
    "\n",
    "railway_stations = ox.features_from_place(\n",
    "    \"Moscow, Russia\",\n",
    "    tags={\"railway\": [\"station\", \"halt\", \"platform\"],\n",
    "          \"building\": \"train_station\",\n",
    "          \"landuse\": \"railway\"}\n",
    ")\n",
    "railway_stations = railway_stations.to_crs(\"EPSG:4326\")\n",
    "railway_stations = railway_stations[railway_stations.geometry.type.isin(['Point', 'Polygon', 'MultiPolygon'])]\n",
    "\n",
    "if 'station' in railway_stations.columns:\n",
    "    railway_stations = railway_stations[~railway_stations['station'].isin(['subway', 'tram', 'light_rail'])]\n",
    "\n",
    "# не хотим показывать трамваи и метро фильтруем\n",
    "if 'subway' in railway_stations.columns:\n",
    "    railway_stations = railway_stations[railway_stations['subway'] != 'yes']\n",
    "if 'tram' in railway_stations.columns:\n",
    "    railway_stations = railway_stations[railway_stations['tram'] != 'yes']\n",
    "\n",
    "print(f\"Загружено {len(railway_stations)} ж/д станций и терминалов\")"
   ],
   "outputs": [
    {
     "name": "stdout",
     "output_type": "stream",
     "text": [
      "Загружено 6920 ж/д линий\n",
      "Загружено 1048 ж/д станций и терминалов\n"
     ]
    }
   ],
   "execution_count": 19
  },
  {
   "cell_type": "markdown",
   "metadata": {},
   "source": [
    "## Анализ данных\n",
    "Считаем статистику для округов"
   ]
  },
  {
   "cell_type": "code",
   "metadata": {
    "ExecuteTime": {
     "end_time": "2025-06-22T11:41:15.446363Z",
     "start_time": "2025-06-22T11:41:15.372992Z"
    }
   },
   "source": [
    "enterprises_gdf = gpd.GeoDataFrame(\n",
    "    df, \n",
    "    geometry=gpd.points_from_xy(df.lon, df.lat),\n",
    "    crs=\"EPSG:4326\"\n",
    ")\n",
    "\n",
    "okrug_stats = {}\n",
    "for idx, okrug in okrugs.iterrows():\n",
    "    okrug_name = okrug['NAME_AO']\n",
    "\n",
    "    #кол-во промышленных предприятий \n",
    "    enterprises_in_okrug = enterprises_gdf[enterprises_gdf.within(okrug.geometry)]\n",
    "    enterprise_count = len(enterprises_in_okrug)\n",
    "\n",
    "    #площадь промышленных зон \n",
    "    zones_in_okrug = industrial_zones[industrial_zones.within(okrug.geometry)]\n",
    "    industrial_area = zones_in_okrug['area_km2'].sum()\n",
    "    \n",
    "    okrug_stats[okrug_name] = {\n",
    "        'enterprises': enterprise_count,\n",
    "        'industrial_area': industrial_area\n",
    "    }\n",
    "    \n",
    "    okrugs.loc[idx, 'enterprises'] = enterprise_count\n",
    "    okrugs.loc[idx, 'industrial_area'] = industrial_area\n",
    "    \n",
    "    print(f\"{okrug_name}: {enterprise_count} предприятий, {industrial_area:.1f} км2 промзон\")"
   ],
   "outputs": [
    {
     "name": "stdout",
     "output_type": "stream",
     "text": [
      "Восточный: 118 предприятий, 11.3 км² промзон\n",
      "Западный: 54 предприятий, 14.3 км² промзон\n",
      "Зеленоградский: 50 предприятий, 3.3 км² промзон\n",
      "Новомосковский: 28 предприятий, 12.8 км² промзон\n",
      "Северный: 109 предприятий, 12.8 км² промзон\n",
      "Северо-Восточный: 85 предприятий, 11.0 км² промзон\n",
      "Северо-Западный: 31 предприятий, 6.1 км² промзон\n",
      "Троицкий: 26 предприятий, 10.3 км² промзон\n",
      "Центральный: 83 предприятий, 1.9 км² промзон\n",
      "Юго-Восточный: 107 предприятий, 20.9 км² промзон\n",
      "Юго-Западный: 54 предприятий, 5.4 км² промзон\n",
      "Южный: 93 предприятий, 14.8 км² промзон\n"
     ]
    }
   ],
   "execution_count": 20
  },
  {
   "cell_type": "markdown",
   "metadata": {},
   "source": [
    "## Создание карты"
   ]
  },
  {
   "cell_type": "code",
   "metadata": {
    "ExecuteTime": {
     "end_time": "2025-06-22T11:41:15.508571Z",
     "start_time": "2025-06-22T11:41:15.503371Z"
    }
   },
   "source": [
    "m = folium.Map(\n",
    "    location=[55.7558, 37.6173],\n",
    "    zoom_start=10,\n",
    "    tiles='CartoDB positron'\n",
    ")"
   ],
   "outputs": [],
   "execution_count": 21
  },
  {
   "cell_type": "code",
   "metadata": {
    "ExecuteTime": {
     "end_time": "2025-06-22T11:41:15.807763Z",
     "start_time": "2025-06-22T11:41:15.565Z"
    }
   },
   "source": [
    "# Слой 1: Административные границы округов\n",
    "folium.Choropleth(\n",
    "    geo_data=okrugs,\n",
    "    name='Административные округа',\n",
    "    data=okrugs,\n",
    "    columns=['NAME_AO', 'enterprises'],\n",
    "    key_on='feature.properties.NAME_AO',\n",
    "    fill_color='YlOrRd',\n",
    "    fill_opacity=0.7,\n",
    "    line_opacity=0.2,\n",
    "    legend_name='Количество промышленных предприятий',\n",
    "    bins=5,\n",
    "    highlight=True\n",
    ").add_to(m)\n",
    "\n",
    "folium.features.GeoJson(\n",
    "    okrugs,\n",
    "    name='Информация об округах',\n",
    "    style_function=lambda x: {\n",
    "        'fillColor': 'transparent',\n",
    "        'color': 'transparent',\n",
    "        'weight': 0,\n",
    "        'fillOpacity': 0\n",
    "    },\n",
    "    tooltip=folium.features.GeoJsonTooltip(\n",
    "        fields=['NAME_AO', 'enterprises', 'industrial_area'],\n",
    "        aliases=['Округ:', 'Предприятий:', 'Промзоны (км2):'],\n",
    "        labels=True,\n",
    "        sticky=True,\n",
    "        toLocaleString=True\n",
    "    ),\n",
    "    highlight_function=lambda x: {\n",
    "        'weight': 3,\n",
    "        'color': 'black',\n",
    "        'fillOpacity': 0.1\n",
    "    }\n",
    ").add_to(m)"
   ],
   "outputs": [
    {
     "data": {
      "text/plain": [
       "<folium.features.GeoJson at 0x16abf56d0>"
      ]
     },
     "execution_count": 22,
     "metadata": {},
     "output_type": "execute_result"
    }
   ],
   "execution_count": 22
  },
  {
   "cell_type": "code",
   "metadata": {
    "ExecuteTime": {
     "end_time": "2025-06-22T11:41:15.967128Z",
     "start_time": "2025-06-22T11:41:15.865702Z"
    }
   },
   "source": [
    "# Слой 2: Промышленные зоны\n",
    "if not industrial_zones.empty:\n",
    "    zone_features = []\n",
    "    for idx, zone in industrial_zones.iterrows():\n",
    "        zone_name = zone.get('name', f'Промзона №{idx}')\n",
    "        zone_features.append({\n",
    "            \"type\": \"Feature\",\n",
    "            \"properties\": {\n",
    "                \"name\": zone_name,\n",
    "                \"area\": zone['area_km2']\n",
    "            },\n",
    "            \"geometry\": zone.geometry.__geo_interface__\n",
    "        })\n",
    "    \n",
    "    zones_geojson = {\n",
    "        \"type\": \"FeatureCollection\",\n",
    "        \"features\": zone_features\n",
    "    }\n",
    "    \n",
    "    folium.GeoJson(\n",
    "        zones_geojson,\n",
    "        name='Промышленные зоны',\n",
    "        style_function=lambda x: {\n",
    "            'fillColor': 'orange',\n",
    "            'color': 'darkorange',\n",
    "            'weight': 2,\n",
    "            'fillOpacity': 0.3\n",
    "        },\n",
    "        tooltip=folium.GeoJsonTooltip(\n",
    "            fields=['name', 'area'],\n",
    "            aliases=['Название:', 'Площадь (км2):'],\n",
    "            localize=True\n",
    "        )\n",
    "    ).add_to(m)"
   ],
   "outputs": [],
   "execution_count": 23
  },
  {
   "cell_type": "code",
   "metadata": {
    "ExecuteTime": {
     "end_time": "2025-06-22T11:41:16.314954Z",
     "start_time": "2025-06-22T11:41:16.025189Z"
    }
   },
   "source": [
    "# Слой 3: Железнодорожная инфраструктура\n",
    "if not railway_lines.empty:\n",
    "    railway_feature_group = folium.FeatureGroup(name='Железнодорожная инфраструктура')\n",
    "\n",
    "    railway_styles = {\n",
    "        'rail': {'color': '#666666', 'weight': 3, 'opacity': 0.8},\n",
    "        'light_rail': {'color': '#999999', 'weight': 2, 'opacity': 0.7},\n",
    "    }\n",
    "\n",
    "    for idx, line in railway_lines.iterrows():\n",
    "        railway_type = line.get('railway', 'rail')\n",
    "        style = railway_styles.get(railway_type, railway_styles['rail'])\n",
    "\n",
    "        folium.GeoJson(\n",
    "            line.geometry.__geo_interface__,\n",
    "            style_function=lambda x, style=style: style\n",
    "        ).add_to(railway_feature_group)\n",
    "\n",
    "    if not railway_stations.empty:\n",
    "        for idx, station in railway_stations.iterrows():\n",
    "            station_name = html.escape(str(station.get('name', 'Ж/д станция')))\n",
    "\n",
    "            if station.geometry.type == 'Point':\n",
    "                folium.CircleMarker(\n",
    "                    location=[station.geometry.y, station.geometry.x],\n",
    "                    radius=3,\n",
    "                    popup=station_name,\n",
    "                    tooltip=station_name,\n",
    "                    color='darkred',\n",
    "                    fill=True,\n",
    "                    fillColor='red',\n",
    "                    fillOpacity=0.5\n",
    "                ).add_to(railway_feature_group)\n",
    "            else:\n",
    "                terminal_name = html.escape(str(station.get('name', 'Ж/д терминал')))\n",
    "                folium.GeoJson(\n",
    "                    station.geometry.__geo_interface__,\n",
    "                    style_function=lambda x: {\n",
    "                        'fillColor': 'darkred',\n",
    "                        'color': 'darkred',\n",
    "                        'weight': 1,\n",
    "                        'fillOpacity': 0.3\n",
    "                    },\n",
    "                    tooltip=terminal_name\n",
    "                ).add_to(railway_feature_group)\n",
    "\n",
    "    railway_feature_group.add_to(m)"
   ],
   "outputs": [
    {
     "name": "stderr",
     "output_type": "stream",
     "text": [
      "/var/folders/ch/8921msk901z92snw0f1mhnk00000gn/T/ipykernel_2458/1580847494.py:23: ShapelyDeprecationWarning: The 'type' attribute is deprecated, and will be removed in the future. You can use the 'geom_type' attribute instead.\n",
      "  if station.geometry.type == 'Point':\n"
     ]
    }
   ],
   "execution_count": 24
  },
  {
   "cell_type": "code",
   "metadata": {
    "ExecuteTime": {
     "end_time": "2025-06-22T11:41:16.417095Z",
     "start_time": "2025-06-22T11:41:16.373326Z"
    }
   },
   "source": [
    "# Слой 4: Промышленные предприятия\n",
    "marker_cluster = plugins.MarkerCluster(name='Промышленные предприятия')\n",
    "\n",
    "cat_colors = {\n",
    "    'Пищевая промышленность': 'green',\n",
    "    'Химическая промышленность': 'purple',\n",
    "    'Радиоэлектроника и приборостроение': 'blue',\n",
    "    'Машины и оборудование': 'orange',\n",
    "    'Легкая промышленность': 'pink',\n",
    "    'Фармацевтическая промышленность': 'red',\n",
    "    'Металлургия и металлообработка': 'gray',\n",
    "    'Топливно-энергетический комплекс': 'darkred'\n",
    "}\n",
    "\n",
    "# В данных из osm есть какая-то проблема, и нашел подсказку как можно очистить данные\n",
    "def safe_text(text):\n",
    "    if pd.isna(text):\n",
    "        return \"Не указано\"\n",
    "    text = str(text)\n",
    "    text = ''.join(c for c in text if c.isalnum() or c in ' .,-()')\n",
    "    return text[:100]\n",
    "\n",
    "for _, row in df.iterrows():\n",
    "    color = cat_colors.get(row.get('Category', ''), 'lightgray')\n",
    "    name = safe_text(row.get('ShortName', 'Предприятие'))\n",
    "    category = safe_text(row.get('Category', 'Категория'))\n",
    "\n",
    "    folium.Marker(\n",
    "        location=[row['lat'], row['lon']],\n",
    "        tooltip=name,\n",
    "        popup=folium.Popup(f\"{name} - {category}\", max_width=200),\n",
    "        icon=folium.Icon(color=color, icon='industry', prefix='fa')\n",
    "    ).add_to(marker_cluster)\n",
    "\n",
    "marker_cluster.add_to(m)"
   ],
   "outputs": [
    {
     "data": {
      "text/plain": [
       "<folium.plugins.marker_cluster.MarkerCluster at 0x16b89b390>"
      ]
     },
     "execution_count": 25,
     "metadata": {},
     "output_type": "execute_result"
    }
   ],
   "execution_count": 25
  },
  {
   "cell_type": "code",
   "metadata": {
    "ExecuteTime": {
     "end_time": "2025-06-22T11:41:16.496734Z",
     "start_time": "2025-06-22T11:41:16.492517Z"
    }
   },
   "source": [
    "# Слой 5: Тепловая карта\n",
    "heat_data = df[['lat', 'lon']].values.tolist()\n",
    "plugins.HeatMap(\n",
    "    heat_data,\n",
    "    name='Концентрация предприятий',\n",
    "    min_opacity=0.2,\n",
    "    max_zoom=11,\n",
    "    radius=25,\n",
    "    blur=15,\n",
    "    gradient={\n",
    "        0.0: 'blue',\n",
    "        0.25: 'cyan',\n",
    "        0.5: 'lime',\n",
    "        0.75: 'yellow',\n",
    "        1.0: 'red'\n",
    "    }\n",
    ").add_to(m)\n",
    "\n"
   ],
   "outputs": [
    {
     "data": {
      "text/plain": [
       "<folium.plugins.heat_map.HeatMap at 0x16b89b610>"
      ]
     },
     "execution_count": 26,
     "metadata": {},
     "output_type": "execute_result"
    }
   ],
   "execution_count": 26
  },
  {
   "metadata": {},
   "cell_type": "markdown",
   "source": "Плагины на карту"
  },
  {
   "metadata": {
    "ExecuteTime": {
     "end_time": "2025-06-22T11:41:16.567170Z",
     "start_time": "2025-06-22T11:41:16.561904Z"
    }
   },
   "cell_type": "code",
   "source": [
    "\n",
    "folium.LayerControl(collapsed=False).add_to(m)\n",
    "plugins.MousePosition(position='bottomleft', separator=' | ', prefix='Координаты:').add_to(m)\n",
    "plugins.Fullscreen(position='topleft', title='Развернуть', title_cancel='Свернуть').add_to(m)\n",
    "plugins.MiniMap(\n",
    "    position='bottomright',\n",
    "    width=150,\n",
    "    height=150,\n",
    "    collapsed_width=25,\n",
    "    collapsed_height=25,\n",
    "    zoom_level_offset=-5\n",
    ").add_to(m)\n",
    "plugins.MeasureControl(\n",
    "    position='topleft',\n",
    "    primary_length_unit='meters',\n",
    "    secondary_length_unit='kilometers',\n",
    "    primary_area_unit='sqmeters',\n",
    "    secondary_area_unit='sqkilometers'\n",
    ").add_to(m)\n",
    "plugins.Geocoder().add_to(m)"
   ],
   "outputs": [
    {
     "data": {
      "text/plain": [
       "<folium.plugins.geocoder.Geocoder at 0x16b89bd90>"
      ]
     },
     "execution_count": 27,
     "metadata": {},
     "output_type": "execute_result"
    }
   ],
   "execution_count": 27
  },
  {
   "cell_type": "code",
   "metadata": {
    "ExecuteTime": {
     "end_time": "2025-06-22T11:41:20.870181Z",
     "start_time": "2025-06-22T11:41:16.624943Z"
    }
   },
   "source": [
    "# Статистика на карте\n",
    "top3 = sorted(okrug_stats.items(), key=lambda x: x[1]['enterprises'], reverse=True)[:3]\n",
    "total_industrial_area = int(sum([s['industrial_area'] for s in okrug_stats.values()]))\n",
    "\n",
    "stat_html = '<div style=\"position: fixed; top: 280px; right: 20px; width: 300px; '\n",
    "stat_html += 'background: white; z-index: 1000; font-size: 12px; '\n",
    "stat_html += 'border: 2px solid #333; border-radius: 5px; padding: 15px; '\n",
    "stat_html += 'box-shadow: 0 0 10px rgba(0,0,0,0.2);\">'\n",
    "stat_html += '<h3 style=\"margin: 0 0 10px 0;\">Промышленность Москвы</h3>'\n",
    "stat_html += '<b>Всего предприятий:</b> ' + str(len(df)) + '<br>'\n",
    "stat_html += '<b>Административных округов:</b> ' + str(len(okrugs)) + '<br>'\n",
    "stat_html += '<b>Промышленных зон:</b> ' + str(len(industrial_zones)) + '<br>'\n",
    "stat_html += '<b>Общая площадь промзон:</b> ' + str(total_industrial_area) + ' км2<br>'\n",
    "stat_html += '<b>Ж/д станций/терминалов:</b> ' + str(len(railway_stations)) + '<br>'\n",
    "stat_html += '<hr>'\n",
    "stat_html += '<b>Топ-3 округа по предприятиям:</b><br>'\n",
    "\n",
    "for i, (okrug, stats) in enumerate(top3):\n",
    "    stat_html += str(i+1) + '. ' + str(okrug) + ': ' + str(stats[\"enterprises\"]) + '<br>'\n",
    "stat_html += '<br/><br/><b>Автор карты:</b> Евгений Пастухов<br/>'\n",
    "stat_html += '</div>'\n",
    "\n",
    "m.get_root().html.add_child(folium.Element(stat_html))\n",
    "\n",
    "m.save('index.html')\n",
    "print(\"Карта сохранена\")"
   ],
   "outputs": [
    {
     "name": "stdout",
     "output_type": "stream",
     "text": [
      "Карта сохранена\n"
     ]
    }
   ],
   "execution_count": 28
  },
  {
   "cell_type": "markdown",
   "metadata": {},
   "source": [
    "## Итоговая статистика"
   ]
  },
  {
   "cell_type": "code",
   "metadata": {
    "ExecuteTime": {
     "end_time": "2025-06-22T11:41:20.958335Z",
     "start_time": "2025-06-22T11:41:20.950285Z"
    }
   },
   "source": [
    "top_okrugs = sorted(okrug_stats.items(), key=lambda x: x[1]['enterprises'], reverse=True)\n",
    "\n",
    "print(\"Топ-5 округов по количеству предприятий:\")\n",
    "for i, (okrug, stats) in enumerate(top_okrugs[:5]):\n",
    "    print(f\"{i+1}. {okrug}: {stats['enterprises']} предприятий, {stats['industrial_area']:.1f} км2 промзон\")\n",
    "\n",
    "print(f\"\\nВсего предприятий: {len(df)}\")\n",
    "print(f\"Общая площадь промзон: {sum([s['industrial_area'] for s in okrug_stats.values()]):.1f} км2\")\n",
    "\n",
    "print(\"\\nТоп-5 категорий предприятий:\")\n",
    "category_counts = df['Category'].value_counts()\n",
    "for i, (category, count) in enumerate(category_counts.head().items()):\n",
    "    print(f\"{i+1}. {category}: {count} предприятий\")"
   ],
   "outputs": [
    {
     "name": "stdout",
     "output_type": "stream",
     "text": [
      "Топ-5 округов по количеству предприятий:\n",
      "1. Восточный: 118 предприятий, 11.3 км² промзон\n",
      "2. Северный: 109 предприятий, 12.8 км² промзон\n",
      "3. Юго-Восточный: 107 предприятий, 20.9 км² промзон\n",
      "4. Южный: 93 предприятий, 14.8 км² промзон\n",
      "5. Северо-Восточный: 85 предприятий, 11.0 км² промзон\n",
      "\n",
      "Всего предприятий: 840\n",
      "Общая площадь промзон: 125.0 км²\n",
      "\n",
      "Топ-5 категорий предприятий:\n",
      "1. Радиоэлектроника и приборостроение: 90 предприятий\n",
      "2. Пищевая промышленность: 78 предприятий\n",
      "3. Химическая промышленность: 60 предприятий\n",
      "4. Целлюлозно-бумажная промышленность, издательская и полиграфическая деятельность: 59 предприятий\n",
      "5. Машины и оборудование: 29 предприятий\n"
     ]
    }
   ],
   "execution_count": 29
  },
  {
   "cell_type": "markdown",
   "metadata": {},
   "source": ""
  }
 ],
 "metadata": {
  "kernelspec": {
   "display_name": "Python 3",
   "language": "python",
   "name": "python3"
  },
  "language_info": {
   "codemirror_mode": {
    "name": "ipython",
    "version": 3
   },
   "file_extension": ".py",
   "mimetype": "text/x-python",
   "name": "python",
   "nbconvert_exporter": "python",
   "pygments_lexer": "ipython3",
   "version": "3.8.0"
  }
 },
 "nbformat": 4,
 "nbformat_minor": 4
}
